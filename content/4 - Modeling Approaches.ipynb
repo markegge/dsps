{
 "cells": [
  {
   "cell_type": "markdown",
   "id": "a5d8c067-b4db-4ab6-8575-9886d9d878be",
   "metadata": {},
   "source": [
    "# Lab 4: Modeling Approaches\n",
    "Now that we have cleaned our data and done an initial data exploration we can start modeling! In this lab we will fit some simple linear regressions and \n",
    "By the end of this lab you will be able to:\n",
    "- Prepare data for modeling\n",
    "- Fit a simple linear regression model\n",
    "- Compare the performance of different models.\n",
    "- Describe the differences between the primary types of machine learning algorithms and when to apply them.\n",
    "- \n",
    "\n",
    "Outline\n",
    "- Data Cleaning\n",
    "- Model Types\n",
    "    -  \n",
    "- "
   ]
  },
  {
   "cell_type": "code",
   "execution_count": null,
   "id": "5fce1106-be8f-4916-868a-136051a95931",
   "metadata": {},
   "outputs": [],
   "source": [
    "#Import our data analysis library\n",
    "import pandas as pd\n",
    "#Import a plotting library\n",
    "import matplotlib.pyplot as plt\n",
    "#Import a plotting library useful for styling a plot\n",
    "import seaborn as sns"
   ]
  }
 ],
 "metadata": {
  "kernelspec": {
   "display_name": "Python 3 (ipykernel)",
   "language": "python",
   "name": "python3"
  },
  "language_info": {
   "codemirror_mode": {
    "name": "ipython",
    "version": 3
   },
   "file_extension": ".py",
   "mimetype": "text/x-python",
   "name": "python",
   "nbconvert_exporter": "python",
   "pygments_lexer": "ipython3",
   "version": "3.10.13"
  }
 },
 "nbformat": 4,
 "nbformat_minor": 5
}
