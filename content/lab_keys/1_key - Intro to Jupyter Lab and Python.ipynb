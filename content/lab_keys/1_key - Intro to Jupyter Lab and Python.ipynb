{
 "cells": [
  {
   "cell_type": "markdown",
   "metadata": {
    "editable": true,
    "slideshow": {
     "slide_type": "slide"
    },
    "tags": []
   },
   "source": [
    "# Lab 1 Key: Intro to Python, Jupyter Lab, and Data Frames\n",
    "\n",
    "Welcome to Jupyter Lab! Jupyter Lab is the environment we will be using to run our Python code. To your left you can view the files contained in our repository we will be working with. Jupyter Lab allows you to work with and run interactive Jupyter Notebook files (like the one you are reading now!). These notebook files allow you to write python code and display the ouputs of code alongside annotations written in a language called Markdown. Markdown is a simple coding language that allows for flexible styling of written content. "
   ]
  },
  {
   "cell_type": "markdown",
   "metadata": {
    "editable": true,
    "slideshow": {
     "slide_type": "subslide"
    },
    "tags": []
   },
   "source": [
    "This notebook is inteded as a refresher to basic python syntax to set you up to complete the next labs. After completing this first notebook you will be able to:\n",
    "- Write and run code in Jupyter Notebooks\n",
    "- Create and manipulate variables in python\n",
    "- Perform simple math and logical operations in Python\n",
    "- Create and retrieve information from lists and dictionaries\n",
    "- Create and retrieve information from a Pandas data frame\n",
    "- Perform simple data frame calculations"
   ]
  },
  {
   "cell_type": "markdown",
   "metadata": {
    "editable": true,
    "slideshow": {
     "slide_type": "slide"
    },
    "tags": []
   },
   "source": [
    "Let's start by running the next cell of code! You can do this by selecting the cell and typing \"Shift\" + \"Enter\" or the \"play\" button next to the clipboard icon on the toolbar above."
   ]
  },
  {
   "cell_type": "code",
   "execution_count": null,
   "metadata": {
    "editable": true,
    "slideshow": {
     "slide_type": ""
    },
    "tags": []
   },
   "outputs": [],
   "source": [
    "# This is a Comment!\n",
    "print('Hello World')"
   ]
  },
  {
   "cell_type": "markdown",
   "metadata": {
    "editable": true,
    "slideshow": {
     "slide_type": "fragment"
    },
    "tags": []
   },
   "source": [
    "When you run the cell above Jupyter displays the output of the last command `print()` which in this case is the `string` \"Hello World\". Notice that the first line `# This is a Comment!` is ignored. In python we denote comments by adding a \"#\" symbol before the comment to signal that it should be ignored. Comments are an important element of your code to describe what is happening for yourself or anyone else who may read or use your work. In Jupyter Notebooks we can use inline comments in code cells but also use Markdown cells like this one to add more detailed narrative commentary to our code."
   ]
  },
  {
   "cell_type": "markdown",
   "metadata": {
    "editable": true,
    "slideshow": {
     "slide_type": "slide"
    },
    "tags": []
   },
   "source": [
    "## Data Types in Python\n",
    "\n",
    "In python data can come in many forms, but the most basic forms are `string`, `float`, and `integer`.\n",
    "\n",
    "Strings may include any characters including numbers, letters, and symbols. They are identified by being contained in single or double quotes:\n",
    "``` python \n",
    "'I am a string!' \n",
    "```\n",
    "\n",
    "Both floats and integer data types are numeric, meaning they contain only numbers. The key distinction between the two is that floats contain decimals while integers contain only whole numbers.\n",
    "\n",
    "```python\n",
    "# I am an integer:\n",
    "14 \n",
    "\n",
    "# I am a float:\n",
    "14.2345 \n",
    "```\n"
   ]
  },
  {
   "cell_type": "markdown",
   "metadata": {
    "editable": true,
    "slideshow": {
     "slide_type": "subslide"
    },
    "tags": []
   },
   "source": [
    "Be conscientious about your data types as you are coding so you dont get unexpected results. These primary types can behave differently then you might expect. See what happens when we add two strings together:"
   ]
  },
  {
   "cell_type": "code",
   "execution_count": null,
   "metadata": {
    "editable": true,
    "slideshow": {
     "slide_type": ""
    },
    "tags": []
   },
   "outputs": [],
   "source": [
    "x = '4' + '3'\n",
    "print(x)"
   ]
  },
  {
   "cell_type": "markdown",
   "metadata": {
    "editable": true,
    "slideshow": {
     "slide_type": "subslide"
    },
    "tags": []
   },
   "source": [
    "You can always check what type an object is as you're coding by calling python's built in `type()` function"
   ]
  },
  {
   "cell_type": "code",
   "execution_count": null,
   "metadata": {
    "editable": true,
    "slideshow": {
     "slide_type": ""
    },
    "tags": []
   },
   "outputs": [],
   "source": [
    "x = 4.3\n",
    "type(x)"
   ]
  },
  {
   "cell_type": "markdown",
   "metadata": {
    "editable": true,
    "slideshow": {
     "slide_type": ""
    },
    "tags": []
   },
   "source": [
    "And if you ever need to help with a function, you can use a \"?\" after the function to return some useful information. **Hint:** look at the \"Docstring\" which will typically show you information in terms of `function(input) -> output`"
   ]
  },
  {
   "cell_type": "code",
   "execution_count": null,
   "metadata": {},
   "outputs": [],
   "source": [
    "type?"
   ]
  },
  {
   "cell_type": "markdown",
   "metadata": {
    "editable": true,
    "slideshow": {
     "slide_type": ""
    },
    "tags": []
   },
   "source": [
    "The other primary data type you will see often is `boolean`. A boolean values are binary, either `True` or `False`. When using boolean values alongside numbers `True` acts like `1` and `False` acts like `0`."
   ]
  },
  {
   "cell_type": "code",
   "execution_count": null,
   "metadata": {
    "editable": true,
    "slideshow": {
     "slide_type": ""
    },
    "tags": []
   },
   "outputs": [],
   "source": [
    "True + True #What happens when you make one False?"
   ]
  },
  {
   "cell_type": "markdown",
   "metadata": {},
   "source": [
    "## Variables and Operations\n",
    "In python we also often work with variables. Variables are a way to store data, manipulate it, and recall it for different uses. You've already seen a few examples of working with variables above. We can *declare* a variable by giving it a name followed by an \"=\" sign and what we intend to store within the variable. We can then manipulate these variables in the same way we would the original data."
   ]
  },
  {
   "cell_type": "code",
   "execution_count": null,
   "metadata": {},
   "outputs": [],
   "source": [
    "a = 1 \n",
    "b = 3\n",
    "c = a + b # We can even user operations inside a variable!\n",
    "\n",
    "print(c)"
   ]
  },
  {
   "cell_type": "markdown",
   "metadata": {},
   "source": [
    "What happens when you change the variables? What if you make one a string? What other [mathematical operations](https://www.pythoncheatsheet.org/cheatsheet/basics#math-operators) can you do? Try changing up the code above and see what happens!\n",
    "\n",
    "<div class=\"alert alert-block alert-info\"><b>Exercise:</b> Create a variable called <code>months</code> set equal to some integer. Then create a second variable called <code>years</code> that uses the months variable and a mathematical operation to calculate the equivalent years.</div>"
   ]
  },
  {
   "cell_type": "code",
   "execution_count": null,
   "metadata": {},
   "outputs": [],
   "source": [
    "months = 36\n",
    "years = months/12\n",
    "\n",
    "# Print the result in human language\n",
    "print(f'{months} months are equal to {years} years')"
   ]
  },
  {
   "cell_type": "markdown",
   "metadata": {},
   "source": [
    "We often use comparisons and logical operators in our code as well. You can see a little bit more about the types of comparison operators we can use [here](https://www.pythoncheatsheet.org/cheatsheet/control-flow#comparison-operators). Here are some examples, try running them to see what happens!"
   ]
  },
  {
   "cell_type": "code",
   "execution_count": null,
   "metadata": {},
   "outputs": [],
   "source": [
    "42 > 40"
   ]
  },
  {
   "cell_type": "code",
   "execution_count": null,
   "metadata": {},
   "outputs": [],
   "source": [
    "42 < 40"
   ]
  },
  {
   "cell_type": "code",
   "execution_count": null,
   "metadata": {},
   "outputs": [],
   "source": [
    "40 > '42'"
   ]
  },
  {
   "cell_type": "markdown",
   "metadata": {},
   "source": [
    "Look at that! We get a `TypeError`. It seems like we can't use `>` between numbers and strings... there must be a [solution](https://www.pythoncheatsheet.org/cheatsheet/basics#the-str-int-and-float-functions) to problems like this... Bonus points if you go explore and try it out for yourself!"
   ]
  },
  {
   "cell_type": "code",
   "execution_count": null,
   "metadata": {},
   "outputs": [],
   "source": [
    "40 == 40"
   ]
  },
  {
   "cell_type": "code",
   "execution_count": null,
   "metadata": {},
   "outputs": [],
   "source": [
    "40 == '40'"
   ]
  },
  {
   "cell_type": "markdown",
   "metadata": {},
   "source": [
    "We may not be able to use greater than or less than operators between numbers and strings but be we can test if they are the same. But be careful! The results may not always be what you expect."
   ]
  },
  {
   "cell_type": "code",
   "execution_count": null,
   "metadata": {},
   "outputs": [],
   "source": [
    "'dog' != 'cat'"
   ]
  },
  {
   "cell_type": "markdown",
   "metadata": {},
   "source": [
    "## Lists and Dictionaries\n",
    "Now that we know a little about basic data types and variables we can talk about other ways of storing information in python, specifically lists and dictionaries.\n",
    "\n",
    "Lists are made up of a series of objects stored in order. We can create a list using square braket characters (`[]`) with elements separated by commas. Dictionaries on the other hand are made up of pairs of \"keys\" and \"values\" separated by a colon and are created using curly braces (`{}`) as shown below. Each `key: value` pair in a dictionary is separated by a comma."
   ]
  },
  {
   "cell_type": "code",
   "execution_count": null,
   "metadata": {},
   "outputs": [],
   "source": [
    "# This is a list\n",
    "my_list = [1, 2, 3, 4, 5]\n",
    "\n",
    "# This is a dictionary\n",
    "my_dictionary = {'key': 'value', 'one': 1, 'two': 2}"
   ]
  },
  {
   "cell_type": "markdown",
   "metadata": {},
   "source": [
    "We retrieve items from a list by providing an index position for the item we are looking for. Lists start counting at 0 so we can retrieve the first item from our list like so:"
   ]
  },
  {
   "cell_type": "code",
   "execution_count": null,
   "metadata": {},
   "outputs": [],
   "source": [
    "my_list[0]"
   ]
  },
  {
   "cell_type": "markdown",
   "metadata": {},
   "source": [
    "But we also can also use negative numbers (which count from the end of the list, or specify a range of items to retrive."
   ]
  },
  {
   "cell_type": "code",
   "execution_count": null,
   "metadata": {},
   "outputs": [],
   "source": [
    "# Negative numbers retrieve from the end of the list\n",
    "my_list[-1]"
   ]
  },
  {
   "cell_type": "code",
   "execution_count": null,
   "metadata": {},
   "outputs": [],
   "source": [
    "# Specify the range of positions you would like, the first index is included but the last is not.\n",
    "my_list[0:3]"
   ]
  },
  {
   "cell_type": "markdown",
   "metadata": {},
   "source": [
    "Retrieving data from a dictionary is different. We can retrieve specific items using the key values inside of square brackets."
   ]
  },
  {
   "cell_type": "code",
   "execution_count": null,
   "metadata": {},
   "outputs": [],
   "source": [
    "my_dictionary['key']"
   ]
  },
  {
   "cell_type": "markdown",
   "metadata": {
    "editable": true,
    "slideshow": {
     "slide_type": ""
    },
    "tags": []
   },
   "source": [
    "Often we need to know how many items are in a list or dictionary, we can do this using the `len()` function."
   ]
  },
  {
   "cell_type": "code",
   "execution_count": null,
   "metadata": {},
   "outputs": [],
   "source": [
    "#Get the length of the variable my_list\n",
    "len(my_list)"
   ]
  },
  {
   "cell_type": "code",
   "execution_count": null,
   "metadata": {},
   "outputs": [],
   "source": [
    "#Get the length of my_dictionary\n",
    "len(my_dictionary)"
   ]
  },
  {
   "cell_type": "markdown",
   "metadata": {},
   "source": [
    "<div class=\"alert alert-block alert-info\"><b>Exercise: </b>Get the value 1 as an output from <code>my_dictionary</code> and print it below using the <code>print</code> command.</div>"
   ]
  },
  {
   "cell_type": "code",
   "execution_count": null,
   "metadata": {},
   "outputs": [],
   "source": [
    "answer = my_dictionary['one']\n",
    "print(answer)"
   ]
  },
  {
   "cell_type": "markdown",
   "metadata": {},
   "source": [
    "Sometimes our data is a nested series of lists and dictionaries. Think of this as a russian nesting doll where you unpack one element at a time to get the value you are looking for. For example, here is a dictionary with values in the form of lists:"
   ]
  },
  {
   "cell_type": "code",
   "execution_count": null,
   "metadata": {},
   "outputs": [],
   "source": [
    "nested_dict = {\n",
    "    'name' : ['Sam', 'Lauren', 'Jasmine', 'Pierce', 'Josh', 'Cassy'],\n",
    "    'age' : ['30', '29', '38', '40', '38', '34'],\n",
    "    'gender' : ['Male', 'Female', 'Female', 'M', 'M', 'F'],\n",
    "    'favorite food': ['Sushi', 'Ice Cream', 'Steak', 'Fish', 'Salad', 'Fries']\n",
    "}"
   ]
  },
  {
   "cell_type": "markdown",
   "metadata": {},
   "source": [
    "When you have nested data structures like this look at what type of object each element is and access it one component at a time and access the data from the outside in. We can get the 'name' list like this:"
   ]
  },
  {
   "cell_type": "code",
   "execution_count": null,
   "metadata": {},
   "outputs": [],
   "source": [
    "# Get the dictionary item 'name'\n",
    "nested_dict['name']"
   ]
  },
  {
   "cell_type": "code",
   "execution_count": null,
   "metadata": {},
   "outputs": [],
   "source": [
    "# Check the type of the object\n",
    "type(nested_dict['name'])"
   ]
  },
  {
   "cell_type": "markdown",
   "metadata": {},
   "source": [
    "Once we access `'name'` from `nested_dict` and see that it is a list, so we can access elements as we would from any other list:"
   ]
  },
  {
   "cell_type": "code",
   "execution_count": null,
   "metadata": {},
   "outputs": [],
   "source": [
    "nested_dict['name'][0]"
   ]
  },
  {
   "cell_type": "markdown",
   "metadata": {},
   "source": [
    "<div class=\"alert alert-block alert-info\"><b>Exercise: </b>Get Lauren's favorite food from <code>nested_dict</code> (the second item from the favorite food list)</div>"
   ]
  },
  {
   "cell_type": "code",
   "execution_count": null,
   "metadata": {},
   "outputs": [],
   "source": [
    "nested_dict['favorite food'][1]"
   ]
  },
  {
   "cell_type": "markdown",
   "metadata": {},
   "source": [
    "## Working with Data Frames\n",
    "As we begin working with more complicated and longer data we can use [Pandas](https://pandas.pydata.org/) `Data Frames` as a tool for managing and navgating this data. Pandas is a Python package — a previously developed set of data classes and functions that extend the functionality of python. Python has numerous packages that simplify specific tasks, and you'll continue to learn a few of the most common packages used for data science throughout this workshop! Pandas is specifically designed for data processing, much like R's `data.table`. \n",
    "\n",
    "To use a package we first need to import it using the `import` keyword and create an alias using the `as` keyword followed with how we will refer to the package throughout our notebook. For example:"
   ]
  },
  {
   "cell_type": "code",
   "execution_count": null,
   "metadata": {},
   "outputs": [],
   "source": [
    "#Import pandas for data processing\n",
    "import pandas as pd"
   ]
  },
  {
   "cell_type": "markdown",
   "metadata": {},
   "source": [
    "We only need to import our packages once in each notebook, typically at the top of the notebook. In this case we use 'pd' as the alias for pandas, this is how we will refer to the package later on.\n",
    "\n",
    "Now let's actually start seeing what we can do with pandas. We will start by creating a dataframe using our dictionary of lists from earlier using the `pd.DataFrame()` function and saving it as the variable `df`. We can then show the data frame by simply calling `df` at the end of the cell of code."
   ]
  },
  {
   "cell_type": "code",
   "execution_count": null,
   "metadata": {},
   "outputs": [],
   "source": [
    "df = pd.DataFrame(nested_dict)\n",
    "df"
   ]
  },
  {
   "cell_type": "markdown",
   "metadata": {},
   "source": [
    "A data frame functions as a table with one row for every record and one column for every variable. There is a lot that we can do with a data frame:\n",
    "\n",
    "We can select a single column (much like we would with a dictionary):"
   ]
  },
  {
   "cell_type": "code",
   "execution_count": null,
   "metadata": {},
   "outputs": [],
   "source": [
    "df['name']"
   ]
  },
  {
   "cell_type": "markdown",
   "metadata": {},
   "source": [
    "But we can also select more than one using a list of column names:"
   ]
  },
  {
   "cell_type": "code",
   "execution_count": null,
   "metadata": {},
   "outputs": [],
   "source": [
    "df[['name', 'age']]"
   ]
  },
  {
   "cell_type": "markdown",
   "metadata": {},
   "source": [
    "We can also filger for specific rows using a condition:"
   ]
  },
  {
   "cell_type": "code",
   "execution_count": null,
   "metadata": {},
   "outputs": [],
   "source": [
    "#Think of this as \"Data frame WHERE the name column is equal to 'Sam'\"\n",
    "df[df['name']=='Sam']"
   ]
  },
  {
   "cell_type": "markdown",
   "metadata": {},
   "source": [
    "But before we get too far we need to clean the data a bit, let's see what data we are dealing with:"
   ]
  },
  {
   "cell_type": "code",
   "execution_count": null,
   "metadata": {},
   "outputs": [],
   "source": [
    "# Get basic information on the data including the data type of each column\n",
    "df.info()"
   ]
  },
  {
   "cell_type": "markdown",
   "metadata": {},
   "source": [
    "The `DataFrame.info()` function shows us some basic inforamation about our data frame including what data type each column is. In this case every column is an `object` which for pandas is another word for a string. That is strange because we want age to be an integer, so let's change this.\n",
    "\n",
    "We do this by recreating the age column as a version that has been \"cast\" to an integer using the `.astype(int)` function."
   ]
  },
  {
   "cell_type": "code",
   "execution_count": null,
   "metadata": {},
   "outputs": [],
   "source": [
    "#Set the column equal to the column cast as an integer type\n",
    "df['age'] = df['age'].astype(int)\n",
    "\n",
    "#Check to see if this fixed the problem\n",
    "df.info()"
   ]
  },
  {
   "cell_type": "markdown",
   "metadata": {},
   "source": [
    "It looks like it worked! We can also use the `.astype()` method to cast columns to strings or floats. Sometimes you can get an errors when trying to cast columns to numeric data if there are string values, however so you may need to do additional processing in advance.\n",
    "\n",
    "One other type of data cleaning is to standardize or replace the values of strings. Let's do this on the `gender` column to replace the single letters with the full word using the `.replace()` method."
   ]
  },
  {
   "cell_type": "code",
   "execution_count": null,
   "metadata": {},
   "outputs": [],
   "source": [
    "#Replace 'M' with 'Male'\n",
    "df['gender'] = df['gender'].replace('M', 'Male')"
   ]
  },
  {
   "cell_type": "markdown",
   "metadata": {},
   "source": [
    "<div class=\"alert alert-block alert-info\"><b>Exercise: </b>Try replacing the 'F' value that is still in the <code>gender</code> column with 'Female.</div>"
   ]
  },
  {
   "cell_type": "code",
   "execution_count": null,
   "metadata": {},
   "outputs": [],
   "source": [
    "df['gender'] = df['gender'].replace('F', 'Female')"
   ]
  },
  {
   "cell_type": "markdown",
   "metadata": {},
   "source": [
    "Now that we have the data in a cleaner and more standardized format, let's see what we can do with it! We can get the frequency of values in a column using `.value_counts()`, or calculate the mean or sum of a numeric calumn using `.mean()`, or `.sum()`. We can even create a new column with a calculation or sort using the `.sort_values()`."
   ]
  },
  {
   "cell_type": "code",
   "execution_count": null,
   "metadata": {},
   "outputs": [],
   "source": [
    "#Get a count of unique values in the gender column\n",
    "df['gender'].value_counts()"
   ]
  },
  {
   "cell_type": "code",
   "execution_count": null,
   "metadata": {},
   "outputs": [],
   "source": [
    "#Calculate a statistic on a whole column\n",
    "df['age'].mean()      #try replacing '.mean()' with '.sum()'"
   ]
  },
  {
   "cell_type": "code",
   "execution_count": null,
   "metadata": {},
   "outputs": [],
   "source": [
    "#Create a new column with a calculation based on an existing column\n",
    "df['age in months'] = df['age'] * 12\n",
    "\n",
    "#Output the data frame to see what the new colum looks like in context\n",
    "df"
   ]
  },
  {
   "cell_type": "code",
   "execution_count": null,
   "metadata": {},
   "outputs": [],
   "source": [
    "#Show a sorted view of the data frame \n",
    "df.sort_values(by='age')"
   ]
  },
  {
   "cell_type": "markdown",
   "metadata": {
    "editable": true,
    "slideshow": {
     "slide_type": ""
    },
    "tags": []
   },
   "source": [
    "## Your Turn\n",
    "Now that we have seen what it looks like to create a data frame and manipulate it, give it a try yourself! As you go through this exercise as well as the exercises in later labs, feel free to use the [Pandas Cheat Sheet](https://pandas.pydata.org/Pandas_Cheat_Sheet.pdf) as a reference.\n",
    "\n",
    "<div class=\"alert alert-block alert-info\"><b>Exercise: </b> Create a data frame of 6 family members/friends/pets with a column for their names, ages, how long you've known them, and if they are related to you (as a boolean value). \n",
    "    <ul>To do this:\n",
    "        <li>Create a set of lists with the data you'd like to enter in each column</li>\n",
    "        <li>Put each list into a dictionary with they key as the column name you intend to use</li></ul>\n",
    "    <ul>Then:\n",
    "        <li>Add a new column to the data frame converting how long you've known them to months</li>\n",
    "        <li>Sort the data frame by how long you've known them</li>\n",
    "    </ul>\n",
    "\n",
    "As a bonus, perform some simple statistics such as count how many are related to you or find the average length of time you've known them.\n",
    "</div>"
   ]
  },
  {
   "cell_type": "code",
   "execution_count": null,
   "metadata": {
    "editable": true,
    "slideshow": {
     "slide_type": ""
    },
    "tags": []
   },
   "outputs": [],
   "source": [
    "names = ['Sarah', 'John', 'Jessica', 'Ally', 'Loretta', 'Theresa']### Your Code Here ###\n",
    "ages = [32, 29, 35, 42, 50, 45] ### Your Code Here ###\n",
    "known = [5, 10, 13, 3, 20, 20] ### Your Code Here ###\n",
    "related = [False, False, True, True, False, True] ### Your Code Here ###\n",
    "\n",
    "friends = {\n",
    "    'name' : names, #This is a little hint!\n",
    "    'age': ages, ### The rest of your code here ###\n",
    "    'known in years': known,\n",
    "    'related' :related\n",
    "}\n",
    "\n",
    "data_frame = pd.DataFrame(friends)### Your Code Here ###\n",
    "\n",
    "data_frame##### Display the Data Frame Here #####"
   ]
  },
  {
   "cell_type": "code",
   "execution_count": null,
   "metadata": {},
   "outputs": [],
   "source": [
    "data_frame['known in months'] = data_frame['known in years']*12### Your Code Here ###"
   ]
  },
  {
   "cell_type": "code",
   "execution_count": null,
   "metadata": {},
   "outputs": [],
   "source": [
    "##### Sort the Data Frame Here #####\n",
    "data_frame.sort_values(by='known in months')"
   ]
  },
  {
   "cell_type": "markdown",
   "metadata": {},
   "source": [
    "## Bonus: Functions and Loops\n",
    "If we are using python it is typically because we want a process that is reproducable or can automate a commonly repeated process. In python the two primary tools we have to do this are functions and loops. These can be complicated subjects to learn in depth but we can start simple! Functions contain instructions for the code to complete that you can recal at a later time. Just as with algebraic functions, python functions take a series of inputs and return some output. We can define one like this:"
   ]
  },
  {
   "cell_type": "code",
   "execution_count": null,
   "metadata": {},
   "outputs": [],
   "source": [
    "# This function takes two inputs, a and b, and adds them together.\n",
    "\n",
    "def add(a, b):         #Define a function using the 'def' keyword followed by the function name, arguments in parentheses,  and a colon.\n",
    "    output = a + b     #Perform whatever operation you'd like the function to do using the arguments as variables.\n",
    "    return output      #Define what you would like the output of the function to be using the 'return' keyword."
   ]
  },
  {
   "cell_type": "markdown",
   "metadata": {},
   "source": [
    "Now that we have defined our function we can call it by name and add our inputs and it returns the outcome of the function."
   ]
  },
  {
   "cell_type": "code",
   "execution_count": null,
   "metadata": {},
   "outputs": [],
   "source": [
    "add(2,3) #Try using your own inputs here!"
   ]
  },
  {
   "cell_type": "markdown",
   "metadata": {},
   "source": [
    "You can make functions that do any number of operations from incredibly simple operations like the one above to the deeply complex! Functions are useful when we have an operation that we need to repeat and that uses a standard set of inputs. Python includes a number of [built in functions](https://www.pythoncheatsheet.org/cheatsheet/built-in-functions) to perform more nuanced mathematics or common operations such as the `type()` function we used earlier.\n",
    "\n",
    "Now that we have a function let's implement it. What if we want to use our function on every element of `my_list` that we defined earlier? We can do this with a loop. There is a lot one can learn about loops but in essence they are a way of telling our code to repeat some process. A \"for\" loop is often used in data analysis to perform some action for every item in some domain, such as a list! Let's create a loop that, for each item in `my_list` adds some value to it using our `add()` function from earlier."
   ]
  },
  {
   "cell_type": "code",
   "execution_count": null,
   "metadata": {},
   "outputs": [],
   "source": [
    "# We create a variable to define what we want to add to the list. Try changing this and see what happens!\n",
    "value = 3\n",
    "\n",
    "# Now we loop across our list to add the variable and print the result below\n",
    "for item in my_list:              #Create a loop using the 'for' keyword followed by an arbitrary name for each element, the 'in' keyword, then the domain followed by a colon.\n",
    "    result = add(item, value)     #Perform your operations using the arbitrary name above as a variable.\n",
    "    print(result)                 #Use print() to display the result of each iteration of the loop when desired"
   ]
  },
  {
   "cell_type": "markdown",
   "metadata": {},
   "source": [
    "### You try!\n",
    "\n",
    "Try a longer exercise on your own to apply loops and functions. Start with the instructions here using some of the code above but see what else you can do!\n",
    "\n",
    "<div class=\"alert alert-block alert-info\"><b>Exercise: </b><ul><li>Create a list with a sequence of integers from 5 to 10.</li><li>Then define a function that can take a number as an input and performs a basic calculation (multiplication, divisision, etc.) on it.</li><li>Finally, create a loop that applies your function to each element of your list and prints the output.</li></ul></div>\n",
    "\n",
    "What other aplications of functions and loops can you think of? Try some out here or think about ways to apply them in the next labs!"
   ]
  },
  {
   "cell_type": "code",
   "execution_count": null,
   "metadata": {
    "editable": true,
    "slideshow": {
     "slide_type": ""
    },
    "tags": []
   },
   "outputs": [],
   "source": [
    "your_list = [5, 6, 7, 8, 9, 10]### Your Code Here ###\n",
    "\n",
    "def your_function(x, y):### Your Code Here ###\n",
    "    result = x*y\n",
    "    return result"
   ]
  },
  {
   "cell_type": "code",
   "execution_count": null,
   "metadata": {},
   "outputs": [],
   "source": [
    "for n in your_list:### Your Code Here ###\n",
    "    print(your_function(2, n))"
   ]
  }
 ],
 "metadata": {
  "kernelspec": {
   "display_name": "Python 3 (ipykernel)",
   "language": "python",
   "name": "python3"
  },
  "language_info": {
   "codemirror_mode": {
    "name": "ipython",
    "version": 3
   },
   "file_extension": ".py",
   "mimetype": "text/x-python",
   "name": "python",
   "nbconvert_exporter": "python",
   "pygments_lexer": "ipython3",
   "version": "3.10.13"
  }
 },
 "nbformat": 4,
 "nbformat_minor": 4
}
