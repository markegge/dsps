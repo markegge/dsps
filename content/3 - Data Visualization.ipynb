{
 "cells": [
  {
   "cell_type": "markdown",
   "id": "4cc5fa90-de66-4f04-8e20-14a49c812331",
   "metadata": {},
   "source": [
    "# Data Visualization\n",
    "\n",
    "Next we will will explore data visualization in more detail using the Pandas, Matplotlib, and Seaborn packages in python. After this lab you will be able to:\n",
    "- Decide which chart type will most clearly communicate an insight from your data\n",
    "- Create a variety of plot types including:\n",
    "    - Scatter Plots\n",
    "    - Regression Plots\n",
    "    - Line Plots\n",
    "    - Bar Plots\n",
    "    - Box and Whisker Plots\n",
    "    - Histograms\n",
    "- Create a cleaned up and visually appealing plot that you could put into a report.\n",
    "\n",
    "Let's start by importing the packages we will be using and loading the data we will be using"
   ]
  },
  {
   "cell_type": "code",
   "execution_count": null,
   "id": "d65a6c4e-e6c9-4ca2-ab94-264ea3d1a5c5",
   "metadata": {},
   "outputs": [],
   "source": [
    "#Import our data analysis library\n",
    "import pandas as pd\n",
    "#Import a plotting library\n",
    "import matplotlib.pyplot as plt\n",
    "#Import a plotting library useful for styling a plot\n",
    "import seaborn as sns"
   ]
  },
  {
   "cell_type": "code",
   "execution_count": null,
   "id": "f574087c-178d-41aa-9bc1-8ace5e86f79e",
   "metadata": {},
   "outputs": [],
   "source": [
    "#Read the merged sections csv in the data folder\n",
    "df = pd.read_csv('data/sections_merged.csv')"
   ]
  },
  {
   "cell_type": "markdown",
   "id": "592acef5-a924-4b5c-99ff-c3ea59165c93",
   "metadata": {},
   "source": [
    "<div class=\"alert alert-block alert-info\"><b>Exercise:</b> Load another dataframe from the df_long_oci.csv in the data folder.</div>"
   ]
  },
  {
   "cell_type": "code",
   "execution_count": null,
   "id": "0ac8eabf-79e7-4d85-99b7-9260ff3a9a2b",
   "metadata": {},
   "outputs": [],
   "source": [
    "df_oci_long = pd.read_csv('data/df_long_oci.csv')### Your Code Here ###"
   ]
  },
  {
   "cell_type": "markdown",
   "id": "1ca20f9a-b2cd-4cde-a0d8-0c720ffabdab",
   "metadata": {},
   "source": [
    "You've seen a few examples of very simple plots created using pandas built in functions, but there is a wide variety of options when plotting in python. [Matplotlib](https://matplotlib.org/) is one of the most common and comprehensive plotting libraries used for static data visualizaiton, it allows for a great deal of fine control over the details of plotting, and it works well with other libraries such as Pandas and [Seaborn](https://seaborn.pydata.org/). Matplotlib is actually the base code used for the plotting operations of both Pandas and Seaborn. Pandas and Seaborn simplify certain elements of matplotlib, but matplotlib is useful when we seek fine tuned control. \n",
    "\n",
    "We will use each of these tools throughout this lab, but each is useful for different things:\n",
    "|Package|Most Useful For|Complexity|\n",
    "|----|----|----|\n",
    "|Pandas Plots|Exploratory Analysis|Easy and Fast to Use with few built in choices|\n",
    "|Matplotlib|Fine tuned control of individual plotting elements (labels, titles, and legends)|Complicated but highly customizable|\n",
    "|Seaborn|Standard plots with quality styles available out of the box|Middle of the Road: some customization with high quality defaults|\n",
    "\n",
    "Seaborn is a useful package to use when beginning plotting due to it's simplicity, and you may extend it's functionality with matplotlib customization as needed. That said, let's start with some basic scatter plots using seaborn, it will allow us to see the basics most clearly. You can look at the documentation for the scatterplot function [here](https://seaborn.pydata.org/generated/seaborn.scatterplot.html)"
   ]
  },
  {
   "cell_type": "code",
   "execution_count": null,
   "id": "2d467614-67c1-40b5-a431-e3829e1307d6",
   "metadata": {},
   "outputs": [],
   "source": [
    "#Create a scatterplot using df with RUT_12 on the x axis and RIDE_12 on the y axis\n",
    "sns.scatterplot(data=df, x='RUT_12', y='RIDE_12')"
   ]
  },
  {
   "cell_type": "markdown",
   "id": "18c677ee-db47-4d56-a540-2f46b468a219",
   "metadata": {},
   "source": [
    "Seaborn plots typically work by calling the type of plot you seek to create with arguments accepted for the data frame you would like to use, the name of the columns you seek to use as x and y variables. Most functions can accept many additional arguments, however, to facilitate data grouping, such as the `hue` argument shown below. Take a look at the `sns.scatterplot()` [documentation](https://seaborn.pydata.org/generated/seaborn.scatterplot.html) to see the additional arguments it accepts and examples."
   ]
  },
  {
   "cell_type": "code",
   "execution_count": null,
   "id": "c1125f6d-323a-480f-b4cf-6e0c60f862ee",
   "metadata": {},
   "outputs": [],
   "source": [
    "sns.scatterplot(data=df, x='RUT_12', y='RIDE_12', hue='SURFACE_TY')"
   ]
  },
  {
   "cell_type": "markdown",
   "id": "0b674b71-e5a8-4b27-8fbb-1c11cea6ff43",
   "metadata": {},
   "source": [
    "We can also extend our seaborn plots by adding some individual elements using matplotlib. When creating visualizations with matplotlib and seaborn we create a canvas for our chart and relative elements to live on, we place the chart on the canvas, and we can modify or add specific elements. Here is an example:"
   ]
  },
  {
   "cell_type": "code",
   "execution_count": null,
   "id": "a02dedb4-b5b0-46d6-b010-c41426eb426c",
   "metadata": {},
   "outputs": [],
   "source": [
    "#Create the figure and axis canvas for plotting. Try changing the figsize to see what happens.\n",
    "fig, ax = plt.subplots(figsize=(5, 5)) \n",
    "\n",
    "#Create the seaborn scatter plot and place it on 'ax' (ax=ax)\n",
    "sns.scatterplot(data=df, x='RUT_12', y='RIDE_12', hue='SURFACE_TY', ax=ax)\n",
    "\n",
    "#Set the scale limits of the ax object. What happens when you change these?\n",
    "ax.set_xlim([0, 100])\n",
    "ax.set_ylim([0, 100])"
   ]
  },
  {
   "cell_type": "markdown",
   "id": "6cd90409-8d9f-4112-b2f2-5bf360e8c09f",
   "metadata": {},
   "source": [
    "To make the relationship between these variables even clearer, let us filter down to a subset of the data: only segments with Asphalt as the surface that are in an individual region (lets start with region 4). We can use the `sns.regplot()` function to see a quick and simple linear regression with error to visualize the relationship."
   ]
  },
  {
   "cell_type": "code",
   "execution_count": null,
   "id": "5cedfad2-09bb-4644-bbd0-67978b1c1bc6",
   "metadata": {},
   "outputs": [],
   "source": [
    "#Use a regression plot to visualize the linear correlation between variables. Change the region to see how the relationship changes!\n",
    "sns.regplot(data=df[(df['SURFACE_TY']=='Asphalt') & (df['REGION']==4)], x='RUT_12', y ='RIDE_12')"
   ]
  },
  {
   "cell_type": "markdown",
   "id": "87503111-2652-4b99-86b0-57dec2852a65",
   "metadata": {},
   "source": [
    "Let's go even further to look at all of the region's side by side to examine them. The seaborn `.lmplot()` function was designed to do exactly this. You'll find seaborn has many plotting options out of the box to do simple visualizations."
   ]
  },
  {
   "cell_type": "code",
   "execution_count": null,
   "id": "fd57e971-92da-4c20-a7bf-47f378cc609a",
   "metadata": {},
   "outputs": [],
   "source": [
    "#Let's make it even a bit clearer! Seaborn offers powerful tools to examine data in as little as one line of code.\n",
    "sns.lmplot(data=df[df['SURFACE_TY']=='Asphalt'],    #Define the data to plot\n",
    "           x='RUT_12', y ='RIDE_12',                #Select the columns to use\n",
    "           col='REGION', col_wrap=2                 #Subset the data by the region column to create multiple charts within one figure. Set it so there are only two columns\n",
    "          )"
   ]
  },
  {
   "cell_type": "markdown",
   "id": "4496320b-d5a1-4e6c-b149-4418687e8e5b",
   "metadata": {},
   "source": [
    "Now let's make a more customized report ready plot by creatting some plotting settings to show how customizable things can be. We'll start by:\n",
    "1. Set the seaborn Style\n",
    "2. Create a figure and axis object to control figure elements\n",
    "3. Define the data we want to plot with\n",
    "4. Create the plot with a seaborn plotting function and setting `ax=ax` to place it on our figure\n",
    "5. Adding other figure elements like titles and labels\n",
    "6. Show the figure with `plt.show()`.\n",
    "\n",
    "Try commenting out individual lines, changing settings, or modifying the plot type. What happens when you chang the color argument? When you remove the xlabel? What other elements might you want to add?"
   ]
  },
  {
   "cell_type": "code",
   "execution_count": null,
   "id": "2d0d4406-a0bb-4b3b-bcca-c869e4c771cf",
   "metadata": {},
   "outputs": [],
   "source": [
    "### Create a report ready plot with titles, and customized axis labels ###\n",
    "\n",
    "#Set a seaborn style for plotting. Try out some other options: https://seaborn.pydata.org/tutorial/aesthetics.html#seaborn-figure-styles\n",
    "sns.set_style(\"white\")\n",
    "\n",
    "#Set up our figure and ax objects\n",
    "fig, ax = plt.subplots(figsize=(8, 6))\n",
    "\n",
    "#Create a temporary filtered dataframe to plot with\n",
    "plot_df = df[(df['SURFACE_TY']=='Asphalt') & (df['REGION']==4)]\n",
    "\n",
    "#define the primary plot we will be using and place it on the ax object\n",
    "sns.regplot(data=plot_df, x='RUT_12', y ='RIDE_12', color='green', ax=ax)\n",
    "\n",
    "# Add title and labels using matplot lib elements\n",
    "plt.title('Relationship between 2012 Rut and 2012 Ride for Asphalt Surface Type in Region 4')\n",
    "plt.xlabel('2012 Rut', fontsize=12)\n",
    "plt.ylabel('2012 Ride', fontsize=12)\n",
    "\n",
    "#Remove top and right spines from the chart to leave just the x and y axis.\n",
    "ax.spines[['right', 'top']].set_visible(False)\n",
    "\n",
    "# Show plot\n",
    "plt.show()"
   ]
  },
  {
   "cell_type": "markdown",
   "id": "4e011616-7662-4cf4-8399-3214d99250de",
   "metadata": {},
   "source": [
    "## Beyond the Scatter Plot\n",
    "\n",
    "Scatter plots and regression plots are useful when we want to look at the relationship between two continuous variables, but there are lots of different types of insights and relationships we can show through data visualization using the tools at our disposal.\n",
    "\n",
    "<div class=\"alert alert-block alert-info\"><b>Exercise:</b> What types of relationships or data insights are most suitable to each type of chart? Then think about the following insights, which type of chart is most suitable? Answer in the markdown cell below by double clicking the cell to edit and running it when you are finished.</div>"
   ]
  },
  {
   "cell_type": "markdown",
   "id": "d732bd7b-c104-4c78-ac8b-67c89ddba2b9",
   "metadata": {},
   "source": [
    "What type of insight is each chart best at communicating:\n",
    "- Line Charts:\n",
    "- Scatter Plots:\n",
    "- Histograms:\n",
    "- Bar Plots:\n",
    "- Box and Whisker Plots:\n",
    "\n",
    "Using the pavement data we are working with, which type of chart will be best for each of the following variable relationships or insights:\n",
    "- The distribution of of pavement ages:\n",
    "- A pavement segment's OCI score over time:\n",
    "- The total surface area of each surface type:\n",
    "- The number of miles in each region:\n",
    "- The distribution of OCI scores in each year:"
   ]
  },
  {
   "cell_type": "markdown",
   "id": "8880ded7-62db-47d6-9be4-533bd8146df4",
   "metadata": {},
   "source": [
    "<div class=\"alert alert-block alert-info\"><p><b>Exercise:</b> Make some of the plots you described above using seaborn! \n",
    "    <ul> Make the following:\n",
    "        <li>A plot of the distribution of pavement ages</li>\n",
    "        <li>One segment's pavement OCI score over time (use a filtered version of <code>df_oci_long</code> for this)</li>\n",
    "        <li>The total surface area of each surface type</li>\n",
    "    </ul>\n",
    "Feel free to use google and the seaborn documentation for assistance! Most of these plots can be craeted using just a few lines of code. Choose at least one of these plots to customize with matplotlib functions (add titles, labels, etc.) as though you were placing it in a report. </p>\n",
    "</div>\n",
    "\n",
    "**Hint:** Take a look at the plotting options in seabon that you can use: [https://seaborn.pydata.org/api.html#function-interface](https://seaborn.pydata.org/api.html#function-interface). You can call any of these plots in a similar way that we have been: `sns.plottype(arguments...)`. Seaborn will do most of the grouping and aggregating for you but you may find you want or need to perform a `.groupby()` or `.value_counts()` operation on your data as we saw in the previous labs."
   ]
  },
  {
   "cell_type": "code",
   "execution_count": null,
   "id": "04c20be6-74f4-465c-a108-f6e73624fcbb",
   "metadata": {},
   "outputs": [],
   "source": [
    "### Your Code Here ###"
   ]
  },
  {
   "cell_type": "code",
   "execution_count": null,
   "id": "c232c784-ea60-411d-93fa-2b1eb0422f4a",
   "metadata": {},
   "outputs": [],
   "source": [
    "### Your Code Here ###"
   ]
  },
  {
   "cell_type": "code",
   "execution_count": null,
   "id": "758f3602-48d5-4c2b-9a85-7e317e04466c",
   "metadata": {},
   "outputs": [],
   "source": [
    "### Your Code Here ###"
   ]
  },
  {
   "cell_type": "markdown",
   "id": "035d7b0b-0a1d-432b-be8a-165ec87fff9d",
   "metadata": {},
   "source": [
    "## Bonus Exercise\n",
    "Try a more challenging visualization problem! Use of google, stack overflow, and tutorials are encoraged but try to avoid an ai unless you're really stuck.\n",
    "- Option 1: Create a pie chart to show the proportion of miles by region. You'll need to use matplotlib and a `.groupby()` operation to do this.\n",
    "- Option 2: Create a lollipop chart (also called a stem plot) of the OCI_12 scores for the 10 highest and the 10 lowest rated segments. Add figure annotations to make this an explanatory plot. You will need to reformat and sort the data to do this (**Hint:** the Pandas DataFrame `.head()` and `.tail()` methods can be very useful here.\n",
    "- Option 3: How might you utilize loops or functions when plotting? Try to define a custom function for a type of plot, or incorporate a loop to generate multiple plots or plot elements.\n",
    "\n"
   ]
  },
  {
   "cell_type": "code",
   "execution_count": null,
   "id": "ae7a5f8b-c8fa-4a2f-a843-b4f6e022f734",
   "metadata": {},
   "outputs": [],
   "source": [
    "### Your Code Here ###"
   ]
  },
  {
   "cell_type": "code",
   "execution_count": null,
   "id": "704d6a99-34c9-41f6-8721-d1e6e2573a82",
   "metadata": {},
   "outputs": [],
   "source": [
    "### Your Code Here ###"
   ]
  }
 ],
 "metadata": {
  "kernelspec": {
   "display_name": "Python 3 (ipykernel)",
   "language": "python",
   "name": "python3"
  },
  "language_info": {
   "codemirror_mode": {
    "name": "ipython",
    "version": 3
   },
   "file_extension": ".py",
   "mimetype": "text/x-python",
   "name": "python",
   "nbconvert_exporter": "python",
   "pygments_lexer": "ipython3",
   "version": "3.10.13"
  }
 },
 "nbformat": 4,
 "nbformat_minor": 5
}
